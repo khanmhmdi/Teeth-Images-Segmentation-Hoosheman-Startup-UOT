{
 "cells": [
  {
   "cell_type": "code",
   "execution_count": 51,
   "id": "b1554060-ead3-4fdc-8aaa-18a95182ab5d",
   "metadata": {},
   "outputs": [],
   "source": [
    "import pandas as pd\n",
    "import numpy as np\n",
    "import os\n",
    "import shutil"
   ]
  },
  {
   "cell_type": "code",
   "execution_count": 52,
   "id": "6776cdea-557d-4999-aa5a-140eb5ffbb02",
   "metadata": {},
   "outputs": [],
   "source": [
    "path = '/home/mkhanmhmdi/Desktop/teeth/'"
   ]
  },
  {
   "cell_type": "code",
   "execution_count": 16,
   "id": "656b49d8-e74b-494d-b836-06f013ca7d3b",
   "metadata": {},
   "outputs": [],
   "source": [
    "sub_folders = [name for name in os.listdir(path) if os.path.isdir(os.path.join(path, name))]"
   ]
  },
  {
   "cell_type": "code",
   "execution_count": 64,
   "id": "2657f4fc-82bb-4c68-8195-34f2ff8b3ed8",
   "metadata": {},
   "outputs": [],
   "source": [
    "for i in sub_folders:\n",
    "    \n",
    "    person_path = os.path.join(path, i)\n",
    "    new_folder_name = 'All Images'\n",
    "    \n",
    "    if ((os.path.exists(os.path.join(person_path,new_folder_name)))==False):\n",
    "        os.mkdir(os.path.join(person_path,new_folder_name))\n",
    "    \n",
    "    upper_folder = os.path.join(person_path,'upper') \n",
    "    lower_folder = os.path.join(person_path,'lower')\n",
    "    copy_files(upper_folder,'upper')\n",
    "    copy_files(lower_folder,'lower')"
   ]
  },
  {
   "cell_type": "code",
   "execution_count": 63,
   "id": "c970213c-bc0c-492e-b07b-f913a743828e",
   "metadata": {},
   "outputs": [],
   "source": [
    "def copy_files(sub_folders , upper_lower , ):\n",
    "    sub_folders_ = [name for name in os.listdir(sub_folders) if os.path.isdir(os.path.join(sub_folders, name))]\n",
    "\n",
    "    for i in sub_folders_:\n",
    "        for j in os.listdir((os.path.join(sub_folders,i))):\n",
    "            last_image_path = os.path.join(sub_folders,i,j)\n",
    "            new_name_image = os.path.join(os.path.join(person_path,new_folder_name),upper_lower+'_'+i+'_'+j)\n",
    "            shutil.copy(last_image_path,new_name_image)"
   ]
  },
  {
   "cell_type": "code",
   "execution_count": null,
   "id": "a550a374-2013-426b-92e1-31129cf1ba75",
   "metadata": {},
   "outputs": [],
   "source": []
  }
 ],
 "metadata": {
  "kernelspec": {
   "display_name": "Python 3 (ipykernel)",
   "language": "python",
   "name": "python3"
  },
  "language_info": {
   "codemirror_mode": {
    "name": "ipython",
    "version": 3
   },
   "file_extension": ".py",
   "mimetype": "text/x-python",
   "name": "python",
   "nbconvert_exporter": "python",
   "pygments_lexer": "ipython3",
   "version": "3.9.13"
  }
 },
 "nbformat": 4,
 "nbformat_minor": 5
}
