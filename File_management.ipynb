{
 "cells": [
  {
   "cell_type": "code",
   "execution_count": 1,
   "id": "b1554060-ead3-4fdc-8aaa-18a95182ab5d",
   "metadata": {},
   "outputs": [],
   "source": [
    "import pandas as pd\n",
    "import numpy as np\n",
    "import os\n",
    "import shutil"
   ]
  },
  {
   "cell_type": "code",
   "execution_count": 2,
   "id": "6776cdea-557d-4999-aa5a-140eb5ffbb02",
   "metadata": {},
   "outputs": [],
   "source": [
    "path = '/home/mkhanmhmdi/Desktop/teeth/'"
   ]
  },
  {
   "cell_type": "code",
   "execution_count": 7,
   "id": "656b49d8-e74b-494d-b836-06f013ca7d3b",
   "metadata": {},
   "outputs": [
    {
     "data": {
      "text/plain": [
       "['mohammad mahan kargaran-age 6',\n",
       " 'mohammadreza dehghani-age 7',\n",
       " 'mohammad mehdi kheiri-age 7',\n",
       " 'hosein negahdari-age 10',\n",
       " 'mohammad parsa hamze khani-age 11',\n",
       " 'mohammad khodadad-age 8']"
      ]
     },
     "execution_count": 7,
     "metadata": {},
     "output_type": "execute_result"
    }
   ],
   "source": [
    "sub_folders = [name for name in os.listdir(path) if os.path.isdir(os.path.join(path, name))]\n",
    "sub_folders"
   ]
  },
  {
   "cell_type": "code",
   "execution_count": 10,
   "id": "bb89d824",
   "metadata": {},
   "outputs": [
    {
     "data": {
      "text/plain": [
       "'/home/mkhanmhmdi/Desktop/teeth/mohammad khodadad-age 8/All Images'"
      ]
     },
     "execution_count": 10,
     "metadata": {},
     "output_type": "execute_result"
    }
   ],
   "source": [
    "((os.path.join(person_path,new_folder_name)))"
   ]
  },
  {
   "cell_type": "code",
   "execution_count": 8,
   "id": "2657f4fc-82bb-4c68-8195-34f2ff8b3ed8",
   "metadata": {},
   "outputs": [],
   "source": [
    "def gather_all_images():\n",
    "    for i in sub_folders:\n",
    "        \n",
    "        person_path = os.path.join(path, i)\n",
    "        new_folder_name = 'All Images'\n",
    "        \n",
    "        if ((os.path.exists(os.path.join(person_path,new_folder_name)))==False):\n",
    "            os.mkdir(os.path.join(person_path,new_folder_name))\n",
    "        \n",
    "        upper_folder = os.path.join(person_path,'upper') \n",
    "        lower_folder = os.path.join(person_path,'lower')\n",
    "        copy_files(upper_folder,'upper')\n",
    "        copy_files(lower_folder,'lower')"
   ]
  },
  {
   "cell_type": "code",
   "execution_count": 5,
   "id": "c970213c-bc0c-492e-b07b-f913a743828e",
   "metadata": {},
   "outputs": [],
   "source": [
    "def copy_files(sub_folders , upper_lower , ):\n",
    "    sub_folders_ = [name for name in os.listdir(sub_folders) if os.path.isdir(os.path.join(sub_folders, name))]\n",
    "\n",
    "    for i in sub_folders_:\n",
    "        for j in os.listdir((os.path.join(sub_folders,i))):\n",
    "            last_image_path = os.path.join(sub_folders,i,j)\n",
    "            new_name_image = os.path.join(os.path.join(person_path,new_folder_name),upper_lower+'_'+i+'_'+j)\n",
    "            shutil.copy(last_image_path,new_name_image)"
   ]
  },
  {
   "cell_type": "code",
   "execution_count": null,
   "id": "a550a374-2013-426b-92e1-31129cf1ba75",
   "metadata": {},
   "outputs": [],
   "source": [
    "gather_all_images()"
   ]
  },
  {
   "cell_type": "code",
   "execution_count": 64,
   "id": "aa06bfaa",
   "metadata": {},
   "outputs": [],
   "source": [
    "def frame_to_str(person_csv):\n",
    "    for i in range(len(person_csv)):\n",
    "        number = person_csv['Frame Number'][i]\n",
    "        string = \"\"\n",
    "        if number<10:\n",
    "            number = str(number)\n",
    "            string = \"0000\" + number\n",
    "        elif number<100:\n",
    "            number = str(number)\n",
    "            string = \"000\" + number\n",
    "        elif number<1000:\n",
    "            number = str(number)\n",
    "            string = \"00\" + (number)\n",
    "        elif number<10000:\n",
    "            number = str(number)\n",
    "            string = \"0\" + (number)\n",
    "        person_csv['Frame Number'][i] = string  \n",
    "\n",
    "    return person_csv    "
   ]
  },
  {
   "cell_type": "code",
   "execution_count": 102,
   "id": "3295ae32",
   "metadata": {},
   "outputs": [
    {
     "data": {
      "text/plain": [
       "''"
      ]
     },
     "execution_count": 102,
     "metadata": {},
     "output_type": "execute_result"
    }
   ],
   "source": [
    "\"  \".strip()"
   ]
  },
  {
   "cell_type": "code",
   "execution_count": 105,
   "id": "cc1ee263",
   "metadata": {},
   "outputs": [],
   "source": [
    "def extract_main_images(path) :\n",
    "    person_csv_file_path = '/home/mkhanmhmdi/Desktop/excels-teeth/Teeth project (UOT) - 25.csv'\n",
    "    person_csv = pd.read_csv(person_csv_file_path)\n",
    "    person_csv = frame_to_str(person_csv)\n",
    "    for i in range(len(person_csv)):\n",
    "\n",
    "        source_image_path = str(person_csv['upper/lower jaw'][i] +\"_\" + person_csv['path'][i] + \"_\" + str(person_csv['Frame Number'][i]) + \".jpg\")\n",
    "        destination_image_name = str(str(person_csv['Person-n'][i]) + \"_\" + person_csv['upper/lower jaw'][i] + \"_\" + str(person_csv['Frame Number'][i]) + \"_\" + person_csv[\"F/T/B\"][i] + \"_\" + \"m\" +  \"_\" + str(person_csv['First teeth'][i])+ \"_\" + str(person_csv['Last teeth'][i]) + '.jpg' )\n",
    "        source_image_path = source_image_path.replace(' ','')\n",
    "        destination_image_name = destination_image_name.replace(' ','')\n",
    "\n",
    "        shutil.copy(os.path.join(path,source_image_path),os.path.join('/home/mkhanmhmdi/Desktop/teeth/extracted_teeth/',destination_image_name))"
   ]
  },
  {
   "cell_type": "code",
   "execution_count": 106,
   "id": "19e21c15",
   "metadata": {},
   "outputs": [
    {
     "name": "stdout",
     "output_type": "stream",
     "text": [
      "lower_MFSU1067_00038.jpg\n",
      "lower_MFSU1067_00046.jpg\n",
      "lower_MFSU1067_00051.jpg\n",
      "lower_MFSU1067_00053.jpg\n",
      "lower_MFSU1067_00076.jpg\n",
      "lower_MFSU1067_00103.jpg\n",
      "lower_MFSU1067_00120.jpg\n",
      "lower_MFSU1067_00155.jpg\n",
      "lower_MFSU1067_00215.jpg\n",
      "lower_MFSU1067_00245.jpg\n",
      "lower_MFSU1067_00304.jpg\n",
      "lower_MFSU1067_00343.jpg\n",
      "lower_MFSU1067_00558.jpg\n",
      "lower_MFSU1067_00618.jpg\n",
      "lower_MFSU1067_00734.jpg\n",
      "lower_MFSU1067_00767.jpg\n",
      "lower_MFSU1067_00797.jpg\n",
      "lower_MFSU1067_00812.jpg\n",
      "lower_MFSU1067_01006.jpg\n",
      "lower_MFSU1067_01025.jpg\n",
      "lower_MFSU1067_01034.jpg\n",
      "lower_MFSU1067_01048.jpg\n",
      "lower_MFSU1067_01064.jpg\n",
      "upper_SWQL2903_00211.jpg\n",
      "upper_SWQL2903_00231.jpg\n",
      "upper_SWQL2903_00278.jpg\n",
      "upper_SWQL2903_00392.jpg\n",
      "upper_SWQL2903_00525.jpg\n",
      "upper_SWQL2903_00550.jpg\n",
      "upper_SWQL2903_00757.jpg\n",
      "upper_SWQL2903_00766.jpg\n",
      "upper_SWQL2903_00775.jpg\n",
      "upper_SWQL2903_00788.jpg\n",
      "upper_SWQL2903_00811.jpg\n",
      "upper_SWQL2903_00830.jpg\n"
     ]
    },
    {
     "name": "stderr",
     "output_type": "stream",
     "text": [
      "/tmp/ipykernel_7891/710059464.py:17: SettingWithCopyWarning: \n",
      "A value is trying to be set on a copy of a slice from a DataFrame\n",
      "\n",
      "See the caveats in the documentation: https://pandas.pydata.org/pandas-docs/stable/user_guide/indexing.html#returning-a-view-versus-a-copy\n",
      "  person_csv['Frame Number'][i] = string\n"
     ]
    }
   ],
   "source": [
    "names = \n",
    "extract_main_images('/home/mkhanmhmdi/Desktop/teeth/hosein negahdari-age 10/All Images/')"
   ]
  },
  {
   "cell_type": "code",
   "execution_count": null,
   "id": "35e2fdaf",
   "metadata": {},
   "outputs": [],
   "source": [
    "upper_SWQL2903_00211.jpg"
   ]
  }
 ],
 "metadata": {
  "kernelspec": {
   "display_name": "base",
   "language": "python",
   "name": "python3"
  },
  "language_info": {
   "codemirror_mode": {
    "name": "ipython",
    "version": 3
   },
   "file_extension": ".py",
   "mimetype": "text/x-python",
   "name": "python",
   "nbconvert_exporter": "python",
   "pygments_lexer": "ipython3",
   "version": "3.9.13"
  },
  "vscode": {
   "interpreter": {
    "hash": "d6b351f3cc0cfd67d72be80e6b4837fe8868a2d6b89e8661c798e2b3fb5dcebc"
   }
  }
 },
 "nbformat": 4,
 "nbformat_minor": 5
}
